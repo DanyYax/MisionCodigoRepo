{
 "cells": [
  {
   "cell_type": "code",
   "execution_count": 12,
   "id": "15dfb54b",
   "metadata": {},
   "outputs": [
    {
     "name": "stdout",
     "output_type": "stream",
     "text": [
      "Puedes Imprimir un texto y/o números asi 2349\n"
     ]
    }
   ],
   "source": [
    "#\n",
    "# Este es el codigo que use para crear la hoja de referencia de conceptos basicos de python \n",
    "# Esto es un archivo GRATIS hecho por Dany Jacquez para Mision Codigo\n",
    "# Puedes encontrar mas informacion y el PDF de esta hoja suscribiendote a la lista de\n",
    "# emails en www.misioncodigo.com\n",
    "#\n",
    "\n",
    "# 1. Imprimir texto a la terminal\n",
    "# Es muy común y se usa para mostrarle a tu usuario inofmación importante o para mostrar\n",
    "# variables para motivos de debugging o incluso para generar archivos. \n",
    "print(\"Puedes Imprimir un texto y/o números asi {}\".format(2349))\n",
    "\n",
    "# Tip pro\n",
    "# print por defecto agrega una nueva linea al final de cada print. Pero lo puedes quitar o replazar\n",
    "print(\"Un print con comas al final\", end=\",\")\n",
    "print(\" Si lo notaste?\", end=\",\")\n",
    "print(\"o no ?\")\n"
   ]
  },
  {
   "cell_type": "code",
   "execution_count": 6,
   "id": "ce09b03e",
   "metadata": {},
   "outputs": [
    {
     "name": "stdout",
     "output_type": "stream",
     "text": [
      "1,2,3,4,5,6,7,8,9,10,"
     ]
    }
   ],
   "source": [
    "#\n",
    "# 2. Ciclo For\n",
    "#\n",
    "# Se utiliza para repetir una acción n numero de veces o para cada elemento de un objeto \n",
    "# contar de 1 a 10\n",
    "for i in range(10):\n",
    "    print(i + 1, end=',') # nota que la función range empieza en 0\n"
   ]
  },
  {
   "cell_type": "code",
   "execution_count": 10,
   "id": "da81479d",
   "metadata": {},
   "outputs": [
    {
     "name": "stdout",
     "output_type": "stream",
     "text": [
      "1 50 100 150 Ultimo "
     ]
    }
   ],
   "source": [
    "for i in [1, 50, 100, 150, \"Ultimo\"]:\n",
    "    print (i, end = ' ')"
   ]
  },
  {
   "cell_type": "code",
   "execution_count": 8,
   "id": "65de6078",
   "metadata": {},
   "outputs": [
    {
     "name": "stdout",
     "output_type": "stream",
     "text": [
      "Mayor de Edad\n"
     ]
    }
   ],
   "source": [
    "# 3. Condicional if else\n",
    "#\n",
    "# Es la manera de revisar una condición y ejecutar una acción dependiendo del resultado\n",
    "# Si la condicion es cierta hago A, si no haco B\n",
    "#\n",
    "edad = 18\n",
    "if edad >= 18:\n",
    "    print(\"Mayor de Edad\")\n",
    "else:\n",
    "    print(\"Menor de Edad\")"
   ]
  },
  {
   "cell_type": "code",
   "execution_count": 15,
   "id": "c01acc61",
   "metadata": {},
   "outputs": [
    {
     "name": "stdout",
     "output_type": "stream",
     "text": [
      "i es menor que 2\n",
      "i es menor que 2\n",
      "i ya no es menor que 2\n"
     ]
    }
   ],
   "source": [
    "#\n",
    "# 4. while\n",
    "#\n",
    "# Ejecuta un ciclo mientras la condicion sea cierta. Es una mezcla entre un ciclo for i un if\n",
    "i = 0\n",
    "while i < 2:\n",
    "    print(\"i es menor que 2\")\n",
    "    i += 1\n",
    "print (\"i ya no es menor que 2\")\n"
   ]
  },
  {
   "cell_type": "code",
   "execution_count": 16,
   "id": "c05ee471",
   "metadata": {},
   "outputs": [
    {
     "name": "stdout",
     "output_type": "stream",
     "text": [
      "ciclo infinito\n",
      "fin del while\n"
     ]
    }
   ],
   "source": [
    "#\n",
    "# 5. break\n",
    "# se usa para romper un ciclo. Puede ser usado en ciclo for o while\n",
    "while True:\n",
    "    print(\"ciclo infinito\")\n",
    "    break\n",
    "    print(\"Codigo muerto\")\n",
    "print(\"fin del while\")"
   ]
  },
  {
   "cell_type": "code",
   "execution_count": 19,
   "id": "123b139f",
   "metadata": {},
   "outputs": [
    {
     "name": "stdout",
     "output_type": "stream",
     "text": [
      "50 es mayor de 10\n"
     ]
    }
   ],
   "source": [
    "#\n",
    "# 6. continue\n",
    "#\n",
    "# Termina la iteración actual del ciclo\n",
    "for i in [1, 50, 4]:\n",
    "    if i < 10: continue\n",
    "    print(\"{} es mayor de 10\".format(i))"
   ]
  },
  {
   "cell_type": "code",
   "execution_count": 21,
   "id": "55e1ca97",
   "metadata": {},
   "outputs": [
    {
     "name": "stdout",
     "output_type": "stream",
     "text": [
      "ningún número mayor a 10\n"
     ]
    }
   ],
   "source": [
    "#\n",
    "# 7. for else\n",
    "#\n",
    "# else en un ciclo for se ejecuta solo si el ciclo terminó correctamente\n",
    "for i in [1, 5, 4]:\n",
    "    if i < 10: continue\n",
    "    print(\"{} es mayor de 10\".format(i))\n",
    "else:\n",
    "    print(\"ningún número mayor a 10\")"
   ]
  },
  {
   "cell_type": "code",
   "execution_count": 22,
   "id": "130ca5fa",
   "metadata": {},
   "outputs": [
    {
     "data": {
      "text/plain": [
       "list"
      ]
     },
     "execution_count": 22,
     "metadata": {},
     "output_type": "execute_result"
    }
   ],
   "source": [
    "#\n",
    "# 8. definir una lista\n",
    "#\n",
    "lista = [0, 1, 1, 2, 3]\n",
    "type(lista)"
   ]
  },
  {
   "cell_type": "code",
   "execution_count": 24,
   "id": "c7d9ffb8",
   "metadata": {},
   "outputs": [
    {
     "name": "stdout",
     "output_type": "stream",
     "text": [
      "{'inicio': 0, 'final': 10}\n"
     ]
    }
   ],
   "source": [
    "#\n",
    "# 9. Definir un diccionario\n",
    "#\n",
    "dict = {\"inicio\": 0, \"final\": 10}\n",
    "print(dict)"
   ]
  },
  {
   "cell_type": "code",
   "execution_count": 26,
   "id": "67748679",
   "metadata": {},
   "outputs": [
    {
     "data": {
      "text/plain": [
       "['Una linea de prueba']"
      ]
     },
     "execution_count": 26,
     "metadata": {},
     "output_type": "execute_result"
    }
   ],
   "source": [
    "#\n",
    "# 10. Leer un archivo de texto\n",
    "#\n",
    "f = open (\"archivo.txt\", \"r\") \n",
    "f.readlines()"
   ]
  },
  {
   "cell_type": "code",
   "execution_count": null,
   "id": "986137ac",
   "metadata": {},
   "outputs": [],
   "source": []
  },
  {
   "cell_type": "code",
   "execution_count": null,
   "id": "90e92aeb",
   "metadata": {},
   "outputs": [],
   "source": []
  }
 ],
 "metadata": {
  "kernelspec": {
   "display_name": "Python 3",
   "language": "python",
   "name": "python3"
  },
  "language_info": {
   "codemirror_mode": {
    "name": "ipython",
    "version": 3
   },
   "file_extension": ".py",
   "mimetype": "text/x-python",
   "name": "python",
   "nbconvert_exporter": "python",
   "pygments_lexer": "ipython3",
   "version": "3.8.8"
  }
 },
 "nbformat": 4,
 "nbformat_minor": 5
}
