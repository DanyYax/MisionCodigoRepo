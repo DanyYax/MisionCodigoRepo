{
 "cells": [
  {
   "cell_type": "code",
   "execution_count": 1,
   "id": "84b6e7b0",
   "metadata": {},
   "outputs": [
    {
     "name": "stdout",
     "output_type": "stream",
     "text": [
      "Un ejemplo\n"
     ]
    }
   ],
   "source": [
    "#\n",
    "# Este es el codigo que use para crear la hoja de referencia de métodos de strings de python \n",
    "# Esto es un archivo GRATIS hecho por Dany Jacquez para Mision Codigo\n",
    "# Puedes encontrar mas informacion y el PDF de esta hoja suscribiendote a la lista de\n",
    "# emails en www.misioncodigo.com\n",
    "# es GRATIS ;)\n",
    "#\n",
    "\n",
    "# 1. Capitalize\n",
    "# Este método cambia la primera letra del string a mayúscula y el resto a minúscula\n",
    "\n",
    "s = \"uN EJEMplo\"\n",
    "print(s.capitalize())"
   ]
  },
  {
   "cell_type": "code",
   "execution_count": 2,
   "id": "e5bc948e",
   "metadata": {},
   "outputs": [
    {
     "name": "stdout",
     "output_type": "stream",
     "text": [
      "un ejemplo\n"
     ]
    }
   ],
   "source": [
    "# 2. Lower\n",
    "# Este método cambia todas las letras del string a minúscula\n",
    "\n",
    "s = \"uN EJEMplo\"\n",
    "print(s.lower())"
   ]
  },
  {
   "cell_type": "code",
   "execution_count": 3,
   "id": "d8445c85",
   "metadata": {},
   "outputs": [
    {
     "name": "stdout",
     "output_type": "stream",
     "text": [
      "UN EJEMPLO\n"
     ]
    }
   ],
   "source": [
    "# 3. Upper\n",
    "# Este método cambia todas las letras del string a mayúsculas\n",
    "\n",
    "s = \"uN EJEMplo\"\n",
    "print(s.upper())"
   ]
  },
  {
   "cell_type": "code",
   "execution_count": 4,
   "id": "a3a9ce1f",
   "metadata": {},
   "outputs": [
    {
     "name": "stdout",
     "output_type": "stream",
     "text": [
      "2\n"
     ]
    }
   ],
   "source": [
    "# 4. Count\n",
    "# Este método cuenta el número de veces que el parametro aparece en el string.\n",
    "\n",
    "s = \"los perros son mas leales que las personas\"\n",
    "print(s.count(\"per\"))"
   ]
  },
  {
   "cell_type": "code",
   "execution_count": 5,
   "id": "5b1ed0a0",
   "metadata": {},
   "outputs": [
    {
     "name": "stdout",
     "output_type": "stream",
     "text": [
      "3\n"
     ]
    }
   ],
   "source": [
    "# 5. Find\n",
    "# Este método Busca el parámetro en el string y regresa el indice donde lo encuentra por primera vez. \n",
    "# recuerda que los indices empiezan en 0\n",
    "s = \"Aprende python\"\n",
    "print(s.find(\"e\"))"
   ]
  },
  {
   "cell_type": "code",
   "execution_count": 6,
   "id": "0aba8441",
   "metadata": {},
   "outputs": [
    {
     "name": "stdout",
     "output_type": "stream",
     "text": [
      "-1\n"
     ]
    }
   ],
   "source": [
    "# Si el parametro no existe entonces Regresa -1\n",
    "print(s.find(\"a\"))\n"
   ]
  },
  {
   "cell_type": "code",
   "execution_count": 8,
   "id": "e200df4d",
   "metadata": {},
   "outputs": [
    {
     "name": "stdout",
     "output_type": "stream",
     "text": [
      "6\n"
     ]
    }
   ],
   "source": [
    "# Tambien puedes especificar el rango donde buscar\n",
    "print(s.find(\"e\",4,10))"
   ]
  },
  {
   "cell_type": "code",
   "execution_count": 9,
   "id": "3c3d92bf",
   "metadata": {},
   "outputs": [
    {
     "name": "stdout",
     "output_type": "stream",
     "text": [
      "10 es un numero y ['num', 'otra'] es una lista\n"
     ]
    }
   ],
   "source": [
    "# 6. Format\n",
    "# Da formato a variables para agregarlas al string. Los convierte a str.\n",
    "s = \"{} es un numero y {} es una lista\"\n",
    "print(s.format(10,[\"num\", 'otra']))"
   ]
  },
  {
   "cell_type": "code",
   "execution_count": 10,
   "id": "3c245960",
   "metadata": {},
   "outputs": [
    {
     "name": "stdout",
     "output_type": "stream",
     "text": [
      "Se puede agregar tambien otros tipos de datos como 0.001, ('una', 'tupla'), (3+5j)\n"
     ]
    }
   ],
   "source": [
    "s = \"Se puede agregar tambien otros tipos de datos como {}, {}, {}\"\n",
    "print(s.format(0.001, (\"una\", \"tupla\"), 3+5j))"
   ]
  },
  {
   "cell_type": "code",
   "execution_count": 11,
   "id": "9d8389a6",
   "metadata": {},
   "outputs": [
    {
     "name": "stdout",
     "output_type": "stream",
     "text": [
      "True\n",
      "False\n"
     ]
    }
   ],
   "source": [
    "# 7. isalnum\n",
    "# Regresa True si todos los caracteres en el string son alfanuméricos. \n",
    "# Nota: Espacio no es alfanumérico\n",
    "\n",
    "s = \"Blink182\"\n",
    "print(s.isalnum())\n",
    "s = \"la temp es 30 grados\"\n",
    "print(s.isalnum())"
   ]
  },
  {
   "cell_type": "code",
   "execution_count": 13,
   "id": "3e86b4d1",
   "metadata": {},
   "outputs": [
    {
     "name": "stdout",
     "output_type": "stream",
     "text": [
      "False\n",
      "True\n",
      "False\n"
     ]
    }
   ],
   "source": [
    "# 8. isalpha\n",
    "# Regresa True si todos los caracteres en el string están en el alfabeto. Es decir son puras letras\n",
    "s = \"Blink182\"\n",
    "print(s.isalpha())\n",
    "s = \"Letras\"\n",
    "print(s.isalpha())\n",
    "s = \"Letras y Espacios\"\n",
    "print(s.isalpha())"
   ]
  },
  {
   "cell_type": "code",
   "execution_count": 14,
   "id": "d9ffa464",
   "metadata": {},
   "outputs": [
    {
     "name": "stdout",
     "output_type": "stream",
     "text": [
      "True\n"
     ]
    }
   ],
   "source": [
    "# 9. isdigit\n",
    "# Regresa True si todos los caracteres en el string son dígitos.\n",
    "s = \"5094987\"\n",
    "print(s.isdigit())"
   ]
  },
  {
   "cell_type": "code",
   "execution_count": 15,
   "id": "63d28d85",
   "metadata": {},
   "outputs": [
    {
     "name": "stdout",
     "output_type": "stream",
     "text": [
      "Mision Codigo\n"
     ]
    }
   ],
   "source": [
    "# 10. Replace\n",
    "# Regresa un string reemplazando el primer parámetro con el segundo parámetro en el string.\n",
    "s = \"Mision Imposible\"\n",
    "print(s.replace(\"Imposible\", \"Codigo\"))"
   ]
  },
  {
   "cell_type": "code",
   "execution_count": 16,
   "id": "0c642954",
   "metadata": {},
   "outputs": [
    {
     "name": "stdout",
     "output_type": "stream",
     "text": [
      "--- Python ---\n"
     ]
    }
   ],
   "source": [
    "# 11. Strip\n",
    "# Quita los espacios al inicio y al final del string\n",
    "s = \"   --- Python ---  \"\n",
    "print(s.strip())"
   ]
  },
  {
   "cell_type": "code",
   "execution_count": 17,
   "id": "d7a20eb2",
   "metadata": {},
   "outputs": [
    {
     "name": "stdout",
     "output_type": "stream",
     "text": [
      "['Tres', 'Tristes', 'Tigres']\n"
     ]
    }
   ],
   "source": [
    "# 12. Split\n",
    "# Divide el string utilizando el parametro. Si usas el espacio divide por palabras. El método regresa una lista.\n",
    "# Nota que no incluye el parametro usado para dividir\n",
    "s = \"Tres Tristes Tigres\"\n",
    "print(s.split(\" \"))"
   ]
  },
  {
   "cell_type": "code",
   "execution_count": 19,
   "id": "e869efb0",
   "metadata": {},
   "outputs": [
    {
     "name": "stdout",
     "output_type": "stream",
     "text": [
      "['Tre', ' Tri', 'te', ' Tigre', '']\n"
     ]
    }
   ],
   "source": [
    "print(s.split(\"s\"))"
   ]
  },
  {
   "cell_type": "code",
   "execution_count": 20,
   "id": "af8d5d7e",
   "metadata": {},
   "outputs": [
    {
     "name": "stdout",
     "output_type": "stream",
     "text": [
      "Python,C,Java\n"
     ]
    }
   ],
   "source": [
    "# 13. Join\n",
    "# Regresa un string resultado de unir el iterable dado con el string.\n",
    "# Iterable puede ser una lista, tupla, set, diccionario, etc\n",
    "l = [\"Python\", \"C\", \"Java\"]\n",
    "s = \",\"\n",
    "print(s.join(l))"
   ]
  },
  {
   "cell_type": "code",
   "execution_count": 22,
   "id": "cec467ec",
   "metadata": {},
   "outputs": [
    {
     "name": "stdout",
     "output_type": "stream",
     "text": [
      "Python prueba join C prueba join Java\n"
     ]
    }
   ],
   "source": [
    "s = \" prueba join \"\n",
    "print(s.join(l))"
   ]
  },
  {
   "cell_type": "code",
   "execution_count": null,
   "id": "655142b7",
   "metadata": {},
   "outputs": [],
   "source": []
  }
 ],
 "metadata": {
  "kernelspec": {
   "display_name": "Python 3",
   "language": "python",
   "name": "python3"
  },
  "language_info": {
   "codemirror_mode": {
    "name": "ipython",
    "version": 3
   },
   "file_extension": ".py",
   "mimetype": "text/x-python",
   "name": "python",
   "nbconvert_exporter": "python",
   "pygments_lexer": "ipython3",
   "version": "3.8.8"
  }
 },
 "nbformat": 4,
 "nbformat_minor": 5
}
